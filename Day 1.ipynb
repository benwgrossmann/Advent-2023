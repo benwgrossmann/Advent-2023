{
 "cells": [
  {
   "cell_type": "code",
   "execution_count": 4,
   "id": "fed7711a",
   "metadata": {
    "scrolled": true
   },
   "outputs": [
    {
     "name": "stdout",
     "output_type": "stream",
     "text": [
      "54159\n"
     ]
    }
   ],
   "source": [
    "# Part 1\n",
    "\n",
    "filename = \"Day 1 Input.txt\"\n",
    "\n",
    "total = 0\n",
    "with open(filename) as f:\n",
    "    for line in f: \n",
    "        num = ''.join(c for c in line if c.isdigit())\n",
    "        if len(num) >= 2:\n",
    "            total += int(''.join([num[0],num[-1]]))\n",
    "        else:\n",
    "            total += int(''.join([num[0],num[0]]))\n",
    "\n",
    "print(total)"
   ]
  },
  {
   "cell_type": "code",
   "execution_count": 5,
   "id": "603af04e",
   "metadata": {},
   "outputs": [
    {
     "name": "stdout",
     "output_type": "stream",
     "text": [
      "53866\n"
     ]
    }
   ],
   "source": [
    "# Part 2\n",
    "\n",
    "total = 0\n",
    "\n",
    "# translation accounts for possibly overlapping digit names\n",
    "translation = {'zero': 'z0o', 'one': 'o1e', 'two': 't2o', 'three': 't3e', 'four': 'f4r', 'five': 'f5e', 'six': 's6x', 'seven': 's7n', 'eight': 'e8t', 'nine': 'n9e'}\n",
    "with open(filename) as f:\n",
    "    for line in f: \n",
    "        for key, value in translation.items(): \n",
    "            line = line.replace(key, value) \n",
    "        num = ''.join(c for c in line if c.isdigit())\n",
    "        total += int(''.join([num[0], num[-1]]))\n",
    "\n",
    "print(total)"
   ]
  }
 ],
 "metadata": {
  "kernelspec": {
   "display_name": "Python 3 (ipykernel)",
   "language": "python",
   "name": "python3"
  },
  "language_info": {
   "codemirror_mode": {
    "name": "ipython",
    "version": 3
   },
   "file_extension": ".py",
   "mimetype": "text/x-python",
   "name": "python",
   "nbconvert_exporter": "python",
   "pygments_lexer": "ipython3",
   "version": "3.8.6"
  }
 },
 "nbformat": 4,
 "nbformat_minor": 5
}
