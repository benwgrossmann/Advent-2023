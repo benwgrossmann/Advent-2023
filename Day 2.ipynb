{
 "cells": [
  {
   "cell_type": "code",
   "execution_count": 1,
   "id": "b86a6305",
   "metadata": {},
   "outputs": [
    {
     "name": "stdout",
     "output_type": "stream",
     "text": [
      "2369\n"
     ]
    }
   ],
   "source": [
    "# Part 1\n",
    "\n",
    "filename = \"Day 2 Input.txt\"\n",
    "\n",
    "num_cubes = {\"red\":12, \"green\": 13, \"blue\":14}\n",
    "\n",
    "def check_round(s):\n",
    "    for info in s.split(\", \"):\n",
    "        num, color = info.split()\n",
    "        if int(num) > num_cubes[color]:\n",
    "            return False\n",
    "    return True\n",
    "\n",
    "def check_game(s):\n",
    "    return all(check_round(rnd) for rnd in s.split(\"; \"))\n",
    "    \n",
    "    \n",
    "total = 0\n",
    "with open(filename) as f:\n",
    "    for line in f: \n",
    "        head,tail = line.split(\": \")\n",
    "        game_id = int(head.split()[1])\n",
    "        if check_game(tail):\n",
    "            total += game_id\n",
    "\n",
    "print(total)"
   ]
  },
  {
   "cell_type": "code",
   "execution_count": 2,
   "id": "02b746dc",
   "metadata": {},
   "outputs": [
    {
     "name": "stdout",
     "output_type": "stream",
     "text": [
      "66363\n"
     ]
    }
   ],
   "source": [
    "# Part 2\n",
    "\n",
    "filename = \"Day 2 Input.txt\"\n",
    "\n",
    "def get_nums(s):\n",
    "    d = {\"red\":0, \"green\":0, \"blue\":0}\n",
    "    for info in s.split(\", \"):\n",
    "        num, color = info.split()\n",
    "        d[color] = int(num)\n",
    "    return d['red'], d['green'], d['blue']\n",
    "\n",
    "def get_max(s):\n",
    "    return map(max,zip(*[get_nums(rnd) for rnd in s.split(\"; \")]))\n",
    "    \n",
    "    \n",
    "total = 0\n",
    "with open(filename) as f:\n",
    "    for line in f: \n",
    "        head,tail = line.split(\": \")\n",
    "        red, green, blue = get_max(tail)\n",
    "        total += red*green*blue\n",
    "\n",
    "print(total)"
   ]
  },
  {
   "cell_type": "code",
   "execution_count": null,
   "id": "6bc0793b",
   "metadata": {},
   "outputs": [],
   "source": []
  }
 ],
 "metadata": {
  "kernelspec": {
   "display_name": "Python 3 (ipykernel)",
   "language": "python",
   "name": "python3"
  },
  "language_info": {
   "codemirror_mode": {
    "name": "ipython",
    "version": 3
   },
   "file_extension": ".py",
   "mimetype": "text/x-python",
   "name": "python",
   "nbconvert_exporter": "python",
   "pygments_lexer": "ipython3",
   "version": "3.8.6"
  }
 },
 "nbformat": 4,
 "nbformat_minor": 5
}
