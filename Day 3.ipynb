{
 "cells": [
  {
   "cell_type": "code",
   "execution_count": 1,
   "id": "16c0418f",
   "metadata": {},
   "outputs": [],
   "source": [
    "filename = \"Day 3 Input.txt\"\n",
    "\n",
    "with open(filename,'r') as f:\n",
    "    lines = f.read().splitlines()"
   ]
  },
  {
   "cell_type": "code",
   "execution_count": 2,
   "id": "ad214a3a",
   "metadata": {},
   "outputs": [
    {
     "name": "stdout",
     "output_type": "stream",
     "text": [
      "556367\n"
     ]
    }
   ],
   "source": [
    "# part 1 solution\n",
    "\n",
    "def get_adj(row, col_rng):\n",
    "    start, end = col_rng\n",
    "#     start = max(0,start - 1)\n",
    "#     end = min(end + 1, len(lines[row]))\n",
    "    if row > 0:\n",
    "        if start > 0:\n",
    "            yield lines[row-1][start-1]\n",
    "        for j in range(start,end):\n",
    "            yield lines[row-1][j]\n",
    "        if end < len(lines[row-1])-1:\n",
    "            yield lines[row-1][end]\n",
    "    if start > 0:\n",
    "        yield lines[row][start-1]\n",
    "    if end < len(lines[row])-1:\n",
    "        yield lines[row][end]\n",
    "    if row < len(lines)-1:\n",
    "        if start > 0:\n",
    "            yield lines[row+1][start-1]\n",
    "        for j in range(start,end):\n",
    "            yield lines[row+1][j]\n",
    "        if end < len(lines[row+1])-1:\n",
    "            yield lines[row+1][end]\n",
    "\n",
    "def get_num_end(start,line):\n",
    "    for i in range(start+1,len(line)):\n",
    "        if not line[i].isdigit():\n",
    "            return i\n",
    "    return len(line)\n",
    "\n",
    "ans = 0\n",
    "for row,line in enumerate(lines):\n",
    "    col = 0\n",
    "    while col < len(line):\n",
    "        if not line[col].isdigit():\n",
    "            col += 1\n",
    "            continue\n",
    "        end_col = get_num_end(col,line)\n",
    "        if any(c!='.' and not c.isdigit() \n",
    "                for c in get_adj(row, [col,end_col])):\n",
    "            ans += int(line[col:end_col])\n",
    "        col = end_col + 1\n",
    "\n",
    "print(ans)"
   ]
  },
  {
   "cell_type": "code",
   "execution_count": 3,
   "id": "c7707b31",
   "metadata": {},
   "outputs": [],
   "source": [
    "# part 2 solution\n",
    "\n",
    "def get_adj_idx(row, col_rng):\n",
    "    start, end = col_rng\n",
    "#     start = max(0,start - 1)\n",
    "#     end = min(end + 1, len(lines[row]))\n",
    "    if row > 0:\n",
    "        if start > 0:\n",
    "            yield (row-1,start-1)\n",
    "        for j in range(start,end):\n",
    "            yield (row-1,j)\n",
    "        if end < len(lines[row-1])-1:\n",
    "            yield (row-1,end)\n",
    "    if start > 0:\n",
    "        yield (row,start-1)\n",
    "    if end < len(lines[row])-1:\n",
    "        yield (row,end)\n",
    "    if row < len(lines)-1:\n",
    "        if start > 0:\n",
    "            yield (row+1,start-1)\n",
    "        for j in range(start,end):\n",
    "            yield (row+1,j)\n",
    "        if end < len(lines[row+1])-1:\n",
    "            yield (row+1,end)"
   ]
  },
  {
   "cell_type": "code",
   "execution_count": 5,
   "id": "1abbbf48",
   "metadata": {},
   "outputs": [
    {
     "name": "stdout",
     "output_type": "stream",
     "text": [
      "89471771\n"
     ]
    }
   ],
   "source": [
    "from collections import defaultdict\n",
    "\n",
    "gear_dict = defaultdict(list)\n",
    "\n",
    "for row,line in enumerate(lines):\n",
    "    col = 0\n",
    "    while col < len(line):\n",
    "        if not line[col].isdigit():\n",
    "            col += 1\n",
    "            continue\n",
    "        end_col = get_num_end(col,line)\n",
    "        num = int(line[col:end_col])\n",
    "        for i,j in get_adj_idx(row, [col,end_col]):\n",
    "            if lines[i][j] == '*':\n",
    "                gear_dict[(i,j)].append(num)\n",
    "        col = end_col + 1\n",
    "\n",
    "ans = sum(p[0]*p[1] for p in gear_dict.values() if len(p) == 2)\n",
    "print(ans)"
   ]
  },
  {
   "cell_type": "code",
   "execution_count": 34,
   "id": "2416dbbc",
   "metadata": {},
   "outputs": [
    {
     "data": {
      "text/plain": [
       "89471771"
      ]
     },
     "execution_count": 34,
     "metadata": {},
     "output_type": "execute_result"
    }
   ],
   "source": [
    "ans"
   ]
  },
  {
   "cell_type": "code",
   "execution_count": 26,
   "id": "adf6b318",
   "metadata": {},
   "outputs": [
    {
     "data": {
      "text/plain": [
       "139"
      ]
     },
     "execution_count": 26,
     "metadata": {},
     "output_type": "execute_result"
    }
   ],
   "source": [
    "row"
   ]
  },
  {
   "cell_type": "code",
   "execution_count": 27,
   "id": "6a23042e",
   "metadata": {},
   "outputs": [
    {
     "data": {
      "text/plain": [
       "140"
      ]
     },
     "execution_count": 27,
     "metadata": {},
     "output_type": "execute_result"
    }
   ],
   "source": [
    "len(lines)"
   ]
  },
  {
   "cell_type": "code",
   "execution_count": 24,
   "id": "020d1082",
   "metadata": {},
   "outputs": [
    {
     "data": {
      "text/plain": [
       "140"
      ]
     },
     "execution_count": 24,
     "metadata": {},
     "output_type": "execute_result"
    }
   ],
   "source": [
    "len(lines[0])"
   ]
  },
  {
   "cell_type": "code",
   "execution_count": 20,
   "id": "739536d7",
   "metadata": {},
   "outputs": [
    {
     "data": {
      "text/plain": [
       "0"
      ]
     },
     "execution_count": 20,
     "metadata": {},
     "output_type": "execute_result"
    }
   ],
   "source": [
    "ans"
   ]
  },
  {
   "cell_type": "code",
   "execution_count": 17,
   "id": "254cee24",
   "metadata": {},
   "outputs": [
    {
     "data": {
      "text/plain": [
       "15"
      ]
     },
     "execution_count": 17,
     "metadata": {},
     "output_type": "execute_result"
    }
   ],
   "source": [
    "line = lines[0]\n",
    "# line[12]\n",
    "get_num_end(12,line)"
   ]
  },
  {
   "cell_type": "code",
   "execution_count": 21,
   "id": "27cf2165",
   "metadata": {},
   "outputs": [
    {
     "data": {
      "text/plain": [
       "['.', '.', '.', '.', '.', '.', '.']"
      ]
     },
     "execution_count": 21,
     "metadata": {},
     "output_type": "execute_result"
    }
   ],
   "source": [
    "[*get_adj(0,[12,15])]"
   ]
  },
  {
   "cell_type": "code",
   "execution_count": 19,
   "id": "10108b87",
   "metadata": {},
   "outputs": [
    {
     "data": {
      "text/plain": [
       "'9'"
      ]
     },
     "execution_count": 19,
     "metadata": {},
     "output_type": "execute_result"
    }
   ],
   "source": [
    "line[14]"
   ]
  },
  {
   "cell_type": "code",
   "execution_count": 13,
   "id": "b62b2b21",
   "metadata": {},
   "outputs": [
    {
     "data": {
      "text/plain": [
       "0"
      ]
     },
     "execution_count": 13,
     "metadata": {},
     "output_type": "execute_result"
    }
   ],
   "source": [
    "row"
   ]
  },
  {
   "cell_type": "code",
   "execution_count": 4,
   "id": "b91a27c3",
   "metadata": {},
   "outputs": [
    {
     "data": {
      "text/plain": [
       "['............409..........784..',\n",
       " '.....-939..........524#...#...',\n",
       " '............951*..............']"
      ]
     },
     "execution_count": 4,
     "metadata": {},
     "output_type": "execute_result"
    }
   ],
   "source": [
    "# [row[:30] for row in lines[:3]]\n",
    "\n",
    "def get_adj(i,)"
   ]
  },
  {
   "cell_type": "code",
   "execution_count": null,
   "id": "7b4023cc",
   "metadata": {},
   "outputs": [],
   "source": []
  }
 ],
 "metadata": {
  "kernelspec": {
   "display_name": "Python 3 (ipykernel)",
   "language": "python",
   "name": "python3"
  },
  "language_info": {
   "codemirror_mode": {
    "name": "ipython",
    "version": 3
   },
   "file_extension": ".py",
   "mimetype": "text/x-python",
   "name": "python",
   "nbconvert_exporter": "python",
   "pygments_lexer": "ipython3",
   "version": "3.8.6"
  }
 },
 "nbformat": 4,
 "nbformat_minor": 5
}
