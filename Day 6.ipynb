{
 "cells": [
  {
   "cell_type": "code",
   "execution_count": 1,
   "id": "a9918e04",
   "metadata": {},
   "outputs": [],
   "source": [
    "filename = \"Day 6 Input.txt\"\n",
    "\n",
    "with open(filename,'r') as f:\n",
    "    lines = f.read().splitlines()"
   ]
  },
  {
   "cell_type": "code",
   "execution_count": 2,
   "id": "89b4cac9",
   "metadata": {},
   "outputs": [],
   "source": [
    "times = list(map(int,lines[0].split()[1:]))\n",
    "dists = list(map(int,lines[1].split()[1:]))"
   ]
  },
  {
   "cell_type": "markdown",
   "id": "02c3c544",
   "metadata": {},
   "source": [
    "Hold button for $t$ seconds, reach speed of $t$ mm/ms, go at this speed for $T - t$ seconds. Total achieved distance:\n",
    "$$\n",
    "t(T - t)\n",
    "$$\n",
    "Distance to beat is $d \\implies$\n",
    "$$\n",
    "-t^2 + Tt = d\\\\\n",
    "t^2 - Tt + d = 0\\\\\n",
    "t = \\frac{T \\pm \\sqrt{T^2 - 4d}}{2}\n",
    "$$"
   ]
  },
  {
   "cell_type": "code",
   "execution_count": 3,
   "id": "15f13b9e",
   "metadata": {},
   "outputs": [],
   "source": [
    "from math import sqrt,ceil\n",
    "\n",
    "def get_range(T,d):\n",
    "    lo = (T - sqrt(T**2 - 4*d))/2\n",
    "    if lo == ceil(lo):\n",
    "        lo = int(lo) + 1\n",
    "    else:\n",
    "        lo = ceil(lo)\n",
    "    hi = (T + sqrt(T**2 - 4*d))/2\n",
    "    if hi == ceil(hi):\n",
    "        hi = int(hi) - 1\n",
    "    else:\n",
    "        hi = int(hi)\n",
    "    return hi - lo + 1"
   ]
  },
  {
   "cell_type": "code",
   "execution_count": 4,
   "id": "fcc957dc",
   "metadata": {},
   "outputs": [
    {
     "name": "stdout",
     "output_type": "stream",
     "text": [
      "588588\n"
     ]
    }
   ],
   "source": [
    "# Part 1 solution\n",
    "\n",
    "ans = 1\n",
    "for t,d in zip(times, dists):\n",
    "    ans *= get_range(t,d)\n",
    "print(ans)"
   ]
  },
  {
   "cell_type": "code",
   "execution_count": 5,
   "id": "15e082e9",
   "metadata": {},
   "outputs": [
    {
     "data": {
      "text/plain": [
       "34655848"
      ]
     },
     "execution_count": 5,
     "metadata": {},
     "output_type": "execute_result"
    }
   ],
   "source": [
    "# Part 2 solution\n",
    "\n",
    "time = int(''.join(lines[0].split()[1:]))\n",
    "dist = int(''.join(lines[1].split()[1:]))\n",
    "\n",
    "get_range(time, dist)"
   ]
  },
  {
   "cell_type": "code",
   "execution_count": null,
   "id": "f0becbef",
   "metadata": {},
   "outputs": [],
   "source": [
    "# Scrap"
   ]
  },
  {
   "cell_type": "code",
   "execution_count": 42,
   "id": "e8654dae",
   "metadata": {
    "scrolled": true
   },
   "outputs": [
    {
     "data": {
      "text/plain": [
       "(44826981, 202107611381458)"
      ]
     },
     "execution_count": 42,
     "metadata": {},
     "output_type": "execute_result"
    }
   ],
   "source": [
    "time,dist"
   ]
  },
  {
   "cell_type": "code",
   "execution_count": 34,
   "id": "66207c8f",
   "metadata": {},
   "outputs": [
    {
     "data": {
      "text/plain": [
       "(10.0, 20.0)"
      ]
     },
     "execution_count": 34,
     "metadata": {},
     "output_type": "execute_result"
    }
   ],
   "source": [
    "T,d = 30, 200\n",
    "\n",
    "lo = ((T - sqrt(T**2 - 4*d))/2)\n",
    "hi = ((T + sqrt(T**2 - 4*d))/2)\n",
    "\n",
    "lo,hi"
   ]
  },
  {
   "cell_type": "code",
   "execution_count": 38,
   "id": "8be494a7",
   "metadata": {},
   "outputs": [
    {
     "data": {
      "text/plain": [
       "4"
      ]
     },
     "execution_count": 38,
     "metadata": {},
     "output_type": "execute_result"
    }
   ],
   "source": [
    "get_range(7,9)"
   ]
  },
  {
   "cell_type": "code",
   "execution_count": 8,
   "id": "22b45062",
   "metadata": {},
   "outputs": [
    {
     "data": {
      "text/plain": [
       "['Time:        44     82     69     81',\n",
       " 'Distance:   202   1076   1138   1458']"
      ]
     },
     "execution_count": 8,
     "metadata": {},
     "output_type": "execute_result"
    }
   ],
   "source": [
    "lines"
   ]
  }
 ],
 "metadata": {
  "kernelspec": {
   "display_name": "Python 3 (ipykernel)",
   "language": "python",
   "name": "python3"
  },
  "language_info": {
   "codemirror_mode": {
    "name": "ipython",
    "version": 3
   },
   "file_extension": ".py",
   "mimetype": "text/x-python",
   "name": "python",
   "nbconvert_exporter": "python",
   "pygments_lexer": "ipython3",
   "version": "3.8.6"
  }
 },
 "nbformat": 4,
 "nbformat_minor": 5
}
