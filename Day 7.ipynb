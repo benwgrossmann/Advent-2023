{
 "cells": [
  {
   "cell_type": "code",
   "execution_count": 85,
   "id": "4a9561a4",
   "metadata": {},
   "outputs": [],
   "source": [
    "filename = \"Day 7 Input.txt\"\n",
    "\n",
    "with open(filename,'r') as f:\n",
    "    lines = f.read().splitlines()"
   ]
  },
  {
   "cell_type": "code",
   "execution_count": 86,
   "id": "81efeb58",
   "metadata": {},
   "outputs": [],
   "source": [
    "hands = []\n",
    "\n",
    "for line in lines:\n",
    "    hand,bid = line.split()\n",
    "    hands.append((hand, int(bid)))"
   ]
  },
  {
   "cell_type": "code",
   "execution_count": 92,
   "id": "ab7f6ecb",
   "metadata": {},
   "outputs": [],
   "source": [
    "# Part 1\n",
    "\n",
    "from collections import Counter\n",
    "\n",
    "def hand_type(hand):\n",
    "    ct = Counter(hand)\n",
    "    if len(ct) == 1:\n",
    "        return 6\n",
    "    amts = sorted(ct.values())\n",
    "    if amts == [1,4]:\n",
    "        return 5\n",
    "    if amts == [2,3]:\n",
    "        return 4\n",
    "    if amts == [1,1,3]:\n",
    "        return 3\n",
    "    if amts == [1,2,2]:\n",
    "        return 2\n",
    "    if amts == [1,1,1,2]:\n",
    "        return 1\n",
    "    return 0\n",
    "\n",
    "def card_value(c):\n",
    "    dic = {'T':10, 'J':11, 'Q':12, 'K':13, 'A':14}\n",
    "    if c.isdigit():\n",
    "        return int(c)\n",
    "    return dic[c]\n",
    "    \n",
    "def hand_value(hand):\n",
    "    return (hand_type(hand),) + tuple(card_value(c) for c in hand)\n",
    "\n",
    "def key_func(pair):\n",
    "    return hand_value(pair[0])"
   ]
  },
  {
   "cell_type": "code",
   "execution_count": 93,
   "id": "27ec4080",
   "metadata": {},
   "outputs": [
    {
     "name": "stdout",
     "output_type": "stream",
     "text": [
      "249390788\n"
     ]
    }
   ],
   "source": [
    "hands.sort(key = key_func)\n",
    "print(sum(i*p[1] for i,p in enumerate(hands, 1)))"
   ]
  },
  {
   "cell_type": "code",
   "execution_count": 89,
   "id": "05785dc9",
   "metadata": {},
   "outputs": [],
   "source": [
    "# Part 2\n",
    "\n",
    "from collections import Counter\n",
    "\n",
    "def sub_jokers(hand):\n",
    "    if not 'J' in hand:\n",
    "        return hand\n",
    "    ct = Counter(hand)\n",
    "    ct['J'] = 0\n",
    "    c = ct.most_common(1)[0][0]\n",
    "    return hand.translate({74:c})\n",
    "\n",
    "def hand_type(hand):\n",
    "    hand = sub_jokers(hand)\n",
    "    ct = Counter(hand)\n",
    "    if len(ct) == 1:\n",
    "        return 6\n",
    "    amts = sorted(ct.values())\n",
    "    if amts == [1,4]:\n",
    "        return 5\n",
    "    if amts == [2,3]:\n",
    "        return 4\n",
    "    if amts == [1,1,3]:\n",
    "        return 3\n",
    "    if amts == [1,2,2]:\n",
    "        return 2\n",
    "    if amts == [1,1,1,2]:\n",
    "        return 1\n",
    "    return 0\n",
    "\n",
    "def card_value(c):\n",
    "    dic = {'T':10, 'J':1, 'Q':12, 'K':13, 'A':14}\n",
    "    if c.isdigit():\n",
    "        return int(c)\n",
    "    return dic[c]\n",
    "    \n",
    "def hand_value(hand):\n",
    "    return (hand_type(hand),) + tuple(card_value(c) for c in hand)\n",
    "\n",
    "def key_func(pair):\n",
    "    return hand_value(pair[0])"
   ]
  },
  {
   "cell_type": "code",
   "execution_count": 90,
   "id": "69cedcbd",
   "metadata": {},
   "outputs": [
    {
     "data": {
      "text/plain": [
       "3"
      ]
     },
     "execution_count": 90,
     "metadata": {},
     "output_type": "execute_result"
    }
   ],
   "source": [
    "hand_type('JJ73K')"
   ]
  },
  {
   "cell_type": "code",
   "execution_count": 91,
   "id": "c2586245",
   "metadata": {
    "scrolled": true
   },
   "outputs": [
    {
     "name": "stdout",
     "output_type": "stream",
     "text": [
      "248750248\n"
     ]
    }
   ],
   "source": [
    "hands.sort(key = key_func)\n",
    "print(sum(i*p[1] for i,p in enumerate(hands, 1)))"
   ]
  }
 ],
 "metadata": {
  "kernelspec": {
   "display_name": "Python 3 (ipykernel)",
   "language": "python",
   "name": "python3"
  },
  "language_info": {
   "codemirror_mode": {
    "name": "ipython",
    "version": 3
   },
   "file_extension": ".py",
   "mimetype": "text/x-python",
   "name": "python",
   "nbconvert_exporter": "python",
   "pygments_lexer": "ipython3",
   "version": "3.8.6"
  }
 },
 "nbformat": 4,
 "nbformat_minor": 5
}
